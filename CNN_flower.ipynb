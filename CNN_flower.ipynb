{
  "nbformat": 4,
  "nbformat_minor": 0,
  "metadata": {
    "colab": {
      "provenance": [],
      "toc_visible": true,
      "authorship_tag": "ABX9TyPe3SduBuXtCp/IAL7iSAZX",
      "include_colab_link": true
    },
    "kernelspec": {
      "name": "python3",
      "display_name": "Python 3"
    },
    "language_info": {
      "name": "python"
    }
  },
  "cells": [
    {
      "cell_type": "markdown",
      "metadata": {
        "id": "view-in-github",
        "colab_type": "text"
      },
      "source": [
        "<a href=\"https://colab.research.google.com/github/Seethagv/FDP_ASIET/blob/main/CNN_flower.ipynb\" target=\"_parent\"><img src=\"https://colab.research.google.com/assets/colab-badge.svg\" alt=\"Open In Colab\"/></a>"
      ]
    },
    {
      "cell_type": "code",
      "execution_count": null,
      "metadata": {
        "id": "TGYqAYslPNKp"
      },
      "outputs": [],
      "source": []
    },
    {
      "cell_type": "code",
      "source": [
        "from google.colab import drive\n",
        "drive.mount('/content/drive')"
      ],
      "metadata": {
        "id": "NN9cYm8YRBWv"
      },
      "execution_count": null,
      "outputs": []
    },
    {
      "cell_type": "code",
      "source": [
        "import tensorflow as tf"
      ],
      "metadata": {
        "id": "Tl-ZLfCCRDIv"
      },
      "execution_count": null,
      "outputs": []
    },
    {
      "cell_type": "code",
      "source": [
        "import os\n",
        "os.chdir('')"
      ],
      "metadata": {
        "id": "V-asv_GfRKSQ"
      },
      "execution_count": null,
      "outputs": []
    },
    {
      "cell_type": "code",
      "source": [
        "pwd()\n"
      ],
      "metadata": {
        "id": "7r_PtC89RTkp"
      },
      "execution_count": null,
      "outputs": []
    },
    {
      "cell_type": "code",
      "source": [
        "import tensorflow as tf"
      ],
      "metadata": {
        "id": "HwIlZ2EERZYA"
      },
      "execution_count": null,
      "outputs": []
    },
    {
      "cell_type": "code",
      "source": [
        "from tensorflow import keras"
      ],
      "metadata": {
        "id": "ztkP-6RiRbB3"
      },
      "execution_count": null,
      "outputs": []
    },
    {
      "cell_type": "markdown",
      "source": [
        "Set seed to generate same random number"
      ],
      "metadata": {
        "id": "teVUiQpiRleR"
      }
    },
    {
      "cell_type": "code",
      "source": [
        "import tensorflow as tf"
      ],
      "metadata": {
        "id": "DwKfu-E8SyYP"
      },
      "execution_count": 4,
      "outputs": []
    },
    {
      "cell_type": "code",
      "source": [
        "from tensorflow import keras"
      ],
      "metadata": {
        "id": "om2yfiOqSz84"
      },
      "execution_count": 5,
      "outputs": []
    },
    {
      "cell_type": "code",
      "source": [],
      "metadata": {
        "id": "YVkOQOyDSZ5I"
      },
      "execution_count": 1,
      "outputs": []
    },
    {
      "cell_type": "code",
      "source": [
        "tf.random.set_seed(42)\n",
        "import numpy as np\n",
        "np.random.seed(42)\n",
        "import matplotlib.pyplot as plt\n",
        "%matplotlib inline"
      ],
      "metadata": {
        "id": "hB1dKXAURqMI"
      },
      "execution_count": 7,
      "outputs": []
    },
    {
      "cell_type": "code",
      "source": [
        "import numpy as np\n",
        "np.random.seed(42)\n",
        "import glob\n",
        "import PIL\n",
        "from PIL import Image\n",
        "\n",
        "\n",
        "\n",
        "\n",
        "\n",
        "\n",
        "\n",
        "!unzip 'https://drive.google.com/drive/folders/12q3iY3g-zHairPeA6PQB6Uz9fW30q3B4'\n",
        "# to extract dataset from drive\n"
      ],
      "metadata": {
        "colab": {
          "base_uri": "https://localhost:8080/"
        },
        "id": "NM0GppNOR-BD",
        "outputId": "02e14bc6-c9ea-430f-ab22-71cccc36a32f"
      },
      "execution_count": 12,
      "outputs": [
        {
          "output_type": "stream",
          "name": "stdout",
          "text": [
            "unzip:  cannot find or open https://drive.google.com/drive/folders/12q3iY3g-zHairPeA6PQB6Uz9fW30q3B4, https://drive.google.com/drive/folders/12q3iY3g-zHairPeA6PQB6Uz9fW30q3B4.zip or https://drive.google.com/drive/folders/12q3iY3g-zHairPeA6PQB6Uz9fW30q3B4.ZIP.\n"
          ]
        }
      ]
    },
    {
      "cell_type": "markdown",
      "source": [
        "to pick image file '*' indicates all the images in the particular file\n",
        "\n",
        "```\n",
        "# This is formatted as code\n",
        "```\n",
        "\n"
      ],
      "metadata": {
        "id": "-srTm-YfTvYn"
      }
    },
    {
      "cell_type": "code",
      "source": [
        "from tensorflow.python.framework.ops import internal_name_scope_v1\n",
        "imageFiles = glob.glob(\"\")\n",
        "for items in imageFiles[:8]: #imgFiles is a list of strings, each string corresponds to to the file part\n",
        "print(items)\n",
        "print(len(imgFiles))\n",
        "#each folder has 100 images. so 5*100=500images\n"
      ],
      "metadata": {
        "colab": {
          "base_uri": "https://localhost:8080/",
          "height": 130
        },
        "id": "OPUTJKYhVBjZ",
        "outputId": "446efcb0-b358-4e00-fb1b-5e7b353d3f01"
      },
      "execution_count": 11,
      "outputs": [
        {
          "output_type": "error",
          "ename": "IndentationError",
          "evalue": "ignored",
          "traceback": [
            "\u001b[0;36m  File \u001b[0;32m\"<ipython-input-11-3a49a07d0e09>\"\u001b[0;36m, line \u001b[0;32m4\u001b[0m\n\u001b[0;31m    print(items)\u001b[0m\n\u001b[0m    ^\u001b[0m\n\u001b[0;31mIndentationError\u001b[0m\u001b[0;31m:\u001b[0m expected an indented block\n"
          ]
        }
      ]
    },
    {
      "cell_type": "markdown",
      "source": [],
      "metadata": {
        "id": "mGK9D2VhWLS3"
      }
    },
    {
      "cell_type": "code",
      "source": [
        "X =[] # input image list\n",
        "y =[] # output label list\n",
        "for fName in imgFiles:\n",
        "  #Prepare dataset and populate X and y\n",
        "  X_i = Image.open(fName) # content of flower data fromdrive link\n",
        "  X_i = X_i.resize((299,299))\n",
        "  X_i = np.array(X_i)/255.0 #normalize to range 0.0 to 1.0\n",
        "  X.append(X_i)\n",
        "  label = fName.split(\"/\") #[\"\",'content,'drive',Mydrive', 'FDP', 'flower dataset','tiny_FR','category name of flower','Fliename']\n",
        "  y_i = label[7]\n",
        "  y.append(y_i)\n",
        "  print (y)\n",
        "  len(y)"
      ],
      "metadata": {
        "id": "lTv5jcitWwCf"
      },
      "execution_count": null,
      "outputs": []
    },
    {
      "cell_type": "code",
      "source": [
        "print(set(y)) # python function that print unique values of the list\n"
      ],
      "metadata": {
        "id": "SsA0V8qTaG6Q"
      },
      "execution_count": null,
      "outputs": []
    },
    {
      "cell_type": "markdown",
      "source": [
        "Convert to numerical value"
      ],
      "metadata": {
        "id": "eBm8UNHsWvbf"
      }
    },
    {
      "cell_type": "code",
      "source": [
        "from.sklearn.preprocessing import LabelEncoder\n",
        "lEncoder =LabelEncoder()\n",
        "y = lEncoder.fit_transform(y)\n",
        "print(y)\n",
        "print(set(y))\n"
      ],
      "metadata": {
        "id": "7ivbb22Langv"
      },
      "execution_count": null,
      "outputs": []
    }
  ]
}